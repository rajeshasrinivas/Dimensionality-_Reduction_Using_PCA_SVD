{
 "cells": [
  {
   "cell_type": "markdown",
   "metadata": {},
   "source": [
    "# PCA(sklearn) v/s SVD"
   ]
  },
  {
   "cell_type": "code",
   "execution_count": 1,
   "metadata": {},
   "outputs": [],
   "source": [
    "from sklearn.decomposition import PCA\n",
    "from sklearn.preprocessing import StandardScaler\n",
    "import numpy as np"
   ]
  },
  {
   "cell_type": "raw",
   "metadata": {},
   "source": [
    "# input X is of the form X = [[x11,x12,x13,x14]\n",
    "                            [x21,.......,x24]\n",
    "                            [x31,.......,x34]\n",
    "                            [x41,.......,x44]\n",
    "                            [x51,.......,x54]]    shape = (5,4)"
   ]
  },
  {
   "cell_type": "code",
   "execution_count": 2,
   "metadata": {},
   "outputs": [
    {
     "data": {
      "text/plain": [
       "(array([[12, 20, 30, 13],\n",
       "        [15, 12, 17, 14],\n",
       "        [ 0, 18, 73,  9],\n",
       "        [13, 54, 67, 34],\n",
       "        [34, 56, 78,  9]]), '--------------', (5, 4))"
      ]
     },
     "execution_count": 2,
     "metadata": {},
     "output_type": "execute_result"
    }
   ],
   "source": [
    "X = np.array([[12,20,30,13],\n",
    "              [15,12,17,14],\n",
    "              [0,18,73,9],\n",
    "              [13,54,67,34],\n",
    "              [34,56,78,9]])   \n",
    "X , '--------------' , X.shape"
   ]
  },
  {
   "cell_type": "code",
   "execution_count": 3,
   "metadata": {},
   "outputs": [
    {
     "data": {
      "text/plain": [
       "array([[-0.25585985, -0.63245553, -0.93185403, -0.30026054],\n",
       "       [ 0.0182757 , -1.05409255, -1.45855414, -0.19302463],\n",
       "       [-1.35240205, -0.73786479,  0.81030785, -0.72920418],\n",
       "       [-0.16448133,  1.15950181,  0.5672155 ,  1.95169353],\n",
       "       [ 1.75446753,  1.26491106,  1.01288482, -0.72920418]])"
      ]
     },
     "execution_count": 3,
     "metadata": {},
     "output_type": "execute_result"
    }
   ],
   "source": [
    "#feature scaling standardization (from sklearn.preprocessing import StandardScaler)\n",
    "X_std = StandardScaler().fit_transform(X)\n",
    "X_std"
   ]
  },
  {
   "cell_type": "code",
   "execution_count": 4,
   "metadata": {},
   "outputs": [],
   "source": [
    "# PCA (from sklearn.decomposition import PCA)\n",
    "pca_model = PCA()"
   ]
  },
  {
   "cell_type": "markdown",
   "metadata": {},
   "source": [
    "# pca project_data."
   ]
  },
  {
   "cell_type": "code",
   "execution_count": 5,
   "metadata": {},
   "outputs": [],
   "source": [
    "pca_project_data = pca_model.fit_transform(X_std)"
   ]
  },
  {
   "cell_type": "raw",
   "metadata": {},
   "source": [
    "#SVD data preparation.\n",
    "For SVD the input should be of the form [ [x11 [x21 [x31 [x41  [x51\n",
    "                                           x12, . ,  .  , .  ,  .,\n",
    "                                           x13, . ,  .  , .  ,  .,\n",
    "                                           x14],x24 ] x34] x44] x54]]   shape(4,5)"
   ]
  },
  {
   "cell_type": "code",
   "execution_count": 6,
   "metadata": {},
   "outputs": [
    {
     "data": {
      "text/plain": [
       "(array([[-0.25585985,  0.0182757 , -1.35240205, -0.16448133,  1.75446753],\n",
       "        [-0.63245553, -1.05409255, -0.73786479,  1.15950181,  1.26491106],\n",
       "        [-0.93185403, -1.45855414,  0.81030785,  0.5672155 ,  1.01288482],\n",
       "        [-0.30026054, -0.19302463, -0.72920418,  1.95169353, -0.72920418]]),\n",
       " '-----',\n",
       " (4, 5))"
      ]
     },
     "execution_count": 6,
     "metadata": {},
     "output_type": "execute_result"
    }
   ],
   "source": [
    "#input for SVD\n",
    "Sx_std = X_std.T  \n",
    "Sx_std ,'-----' , Sx_std.shape"
   ]
  },
  {
   "cell_type": "code",
   "execution_count": 7,
   "metadata": {},
   "outputs": [
    {
     "data": {
      "text/plain": [
       "array([[ 1.25      ,  0.79224363,  0.19992077, -0.135227  ],\n",
       "       [ 0.79224363,  1.25      ,  0.86695157,  0.56800878],\n",
       "       [ 0.19992077,  0.86695157,  1.25      ,  0.08472175],\n",
       "       [-0.135227  ,  0.56800878,  0.08472175,  1.25      ]])"
      ]
     },
     "execution_count": 7,
     "metadata": {},
     "output_type": "execute_result"
    }
   ],
   "source": [
    "cov = np.cov(Sx_std)\n",
    "cov"
   ]
  },
  {
   "cell_type": "code",
   "execution_count": 8,
   "metadata": {},
   "outputs": [],
   "source": [
    "u, sig , v = np.linalg.svd(cov)"
   ]
  },
  {
   "cell_type": "markdown",
   "metadata": {},
   "source": [
    "# svd project data."
   ]
  },
  {
   "cell_type": "code",
   "execution_count": 9,
   "metadata": {},
   "outputs": [
    {
     "data": {
      "text/plain": [
       "array([[ 1.10453071,  1.51312394,  0.88581115, -1.54069928, -1.96276652],\n",
       "       [ 0.12387819,  0.20883747, -0.1293467 , -1.74714643,  1.54377748],\n",
       "       [ 0.41063674,  0.96557808, -1.66123786,  0.27572974,  0.0092933 ],\n",
       "       [-0.14147851,  0.10288642,  0.02588684,  0.00614604,  0.00655921]])"
      ]
     },
     "execution_count": 9,
     "metadata": {},
     "output_type": "execute_result"
    }
   ],
   "source": [
    "\n",
    "svd_project_data = np.dot(u.T,Sx_std)\n",
    "svd_project_data"
   ]
  },
  {
   "cell_type": "code",
   "execution_count": 10,
   "metadata": {},
   "outputs": [
    {
     "data": {
      "text/plain": [
       "array([[-1.10453071, -0.12387819, -0.41063674,  0.14147851],\n",
       "       [-1.51312394, -0.20883747, -0.96557808, -0.10288642],\n",
       "       [-0.88581115,  0.1293467 ,  1.66123786, -0.02588684],\n",
       "       [ 1.54069928,  1.74714643, -0.27572974, -0.00614604],\n",
       "       [ 1.96276652, -1.54377748, -0.0092933 , -0.00655921]])"
      ]
     },
     "execution_count": 10,
     "metadata": {},
     "output_type": "execute_result"
    }
   ],
   "source": [
    "pca_project_data"
   ]
  },
  {
   "cell_type": "markdown",
   "metadata": {},
   "source": [
    "pca_project_data and svd_project_data are transpose to each other and signs are doesn't match. Its ok the signs really doesn't matter. (Think of it, if not search it on stackoverflow it is already answered)"
   ]
  },
  {
   "cell_type": "markdown",
   "metadata": {},
   "source": [
    "# pca Restruct Data."
   ]
  },
  {
   "cell_type": "code",
   "execution_count": 11,
   "metadata": {},
   "outputs": [
    {
     "data": {
      "text/plain": [
       "array([[-0.25585985, -0.63245553, -0.93185403, -0.30026054],\n",
       "       [ 0.0182757 , -1.05409255, -1.45855414, -0.19302463],\n",
       "       [-1.35240205, -0.73786479,  0.81030785, -0.72920418],\n",
       "       [-0.16448133,  1.15950181,  0.5672155 ,  1.95169353],\n",
       "       [ 1.75446753,  1.26491106,  1.01288482, -0.72920418]])"
      ]
     },
     "execution_count": 11,
     "metadata": {},
     "output_type": "execute_result"
    }
   ],
   "source": [
    "pca_model.inverse_transform(pca_project_data)"
   ]
  },
  {
   "cell_type": "markdown",
   "metadata": {},
   "source": [
    "# svd Reconstruct Data."
   ]
  },
  {
   "cell_type": "code",
   "execution_count": 12,
   "metadata": {},
   "outputs": [
    {
     "data": {
      "text/plain": [
       "array([[-0.25585985,  0.0182757 , -1.35240205, -0.16448133,  1.75446753],\n",
       "       [-0.63245553, -1.05409255, -0.73786479,  1.15950181,  1.26491106],\n",
       "       [-0.93185403, -1.45855414,  0.81030785,  0.5672155 ,  1.01288482],\n",
       "       [-0.30026054, -0.19302463, -0.72920418,  1.95169353, -0.72920418]])"
      ]
     },
     "execution_count": 12,
     "metadata": {},
     "output_type": "execute_result"
    }
   ],
   "source": [
    "reconstruct_data = np.dot(u , svd_project_data)\n",
    "reconstruct_data"
   ]
  },
  {
   "cell_type": "markdown",
   "metadata": {},
   "source": [
    "# Projecting data to lower dimensions using pca."
   ]
  },
  {
   "cell_type": "code",
   "execution_count": 13,
   "metadata": {},
   "outputs": [],
   "source": [
    "lower_dim_pca_model = PCA(n_components=2)  # Data will be projected to 2 dimensions of maximum variation"
   ]
  },
  {
   "cell_type": "code",
   "execution_count": 14,
   "metadata": {},
   "outputs": [
    {
     "data": {
      "text/plain": [
       "array([[-1.10453071, -0.12387819],\n",
       "       [-1.51312394, -0.20883747],\n",
       "       [-0.88581115,  0.1293467 ],\n",
       "       [ 1.54069928,  1.74714643],\n",
       "       [ 1.96276652, -1.54377748]])"
      ]
     },
     "execution_count": 14,
     "metadata": {},
     "output_type": "execute_result"
    }
   ],
   "source": [
    "lower_dim_pca_project_data = lower_dim_pca_model.fit_transform(X_std) \n",
    "lower_dim_pca_project_data"
   ]
  },
  {
   "cell_type": "markdown",
   "metadata": {},
   "source": [
    "# Reconstruction of lower dimension projected data using pca."
   ]
  },
  {
   "cell_type": "code",
   "execution_count": 15,
   "metadata": {},
   "outputs": [
    {
     "data": {
      "text/plain": [
       "array([[-0.41683629, -0.7638431 , -0.56381249, -0.40030063],\n",
       "       [-0.54871822, -1.04836812, -0.77204119, -0.58046719],\n",
       "       [-0.46470812, -0.60112923, -0.45415009, -0.13352783],\n",
       "       [-0.31633807,  1.14435097,  0.77279899,  1.84917488],\n",
       "       [ 1.7466007 ,  1.26898946,  1.01720478, -0.73487923]])"
      ]
     },
     "execution_count": 15,
     "metadata": {},
     "output_type": "execute_result"
    }
   ],
   "source": [
    "lower_dim_pca_model.inverse_transform(lower_dim_pca_project_data)"
   ]
  },
  {
   "cell_type": "markdown",
   "metadata": {},
   "source": [
    "Reconstruction of lower dimensions projected data will not be same as original data. Because of reconstruction error."
   ]
  },
  {
   "cell_type": "markdown",
   "metadata": {},
   "source": [
    "# projectioning data to lower dimensions using svd."
   ]
  },
  {
   "cell_type": "code",
   "execution_count": 16,
   "metadata": {},
   "outputs": [
    {
     "data": {
      "text/plain": [
       "array([[ 1.10453071,  1.51312394,  0.88581115, -1.54069928, -1.96276652],\n",
       "       [ 0.12387819,  0.20883747, -0.1293467 , -1.74714643,  1.54377748]])"
      ]
     },
     "execution_count": 16,
     "metadata": {},
     "output_type": "execute_result"
    }
   ],
   "source": [
    "lower_dim_svd_project_data = np.dot(u[:,:2].T,Sx_std)\n",
    "lower_dim_svd_project_data"
   ]
  },
  {
   "cell_type": "markdown",
   "metadata": {},
   "source": [
    "# Reconstruction of lower dimensions projected data using svd."
   ]
  },
  {
   "cell_type": "code",
   "execution_count": 17,
   "metadata": {},
   "outputs": [
    {
     "data": {
      "text/plain": [
       "array([[-0.41683629, -0.54871822, -0.46470812, -0.31633807,  1.7466007 ],\n",
       "       [-0.7638431 , -1.04836812, -0.60112923,  1.14435097,  1.26898946],\n",
       "       [-0.56381249, -0.77204119, -0.45415009,  0.77279899,  1.01720478],\n",
       "       [-0.40030063, -0.58046719, -0.13352783,  1.84917488, -0.73487923]])"
      ]
     },
     "execution_count": 17,
     "metadata": {},
     "output_type": "execute_result"
    }
   ],
   "source": [
    "lower_dim_svd_reconstructed_data = np.dot(u[:,:2] , lower_dim_svd_project_data)\n",
    "lower_dim_svd_reconstructed_data"
   ]
  },
  {
   "cell_type": "raw",
   "metadata": {},
   "source": [
    "Reconstruction of lower dimensions projected data will not be same as original data. Because of reconstruction error."
   ]
  }
 ],
 "metadata": {
  "kernelspec": {
   "display_name": "Python 3",
   "language": "python",
   "name": "python3"
  },
  "language_info": {
   "codemirror_mode": {
    "name": "ipython",
    "version": 3
   },
   "file_extension": ".py",
   "mimetype": "text/x-python",
   "name": "python",
   "nbconvert_exporter": "python",
   "pygments_lexer": "ipython3",
   "version": "3.6.4"
  }
 },
 "nbformat": 4,
 "nbformat_minor": 2
}
